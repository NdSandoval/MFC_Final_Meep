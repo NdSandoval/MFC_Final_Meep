{
 "cells": [
  {
   "cell_type": "markdown",
   "id": "7c0c4120-fa91-4d82-bffc-595b9a3e69d4",
   "metadata": {},
   "source": [
    "# _**Radiación de Cherenkov**_"
   ]
  },
  {
   "cell_type": "markdown",
   "id": "fcd45572-6cd0-4e8b-9cf0-386e3c843fdc",
   "metadata": {},
   "source": [
    "El objetivo de este notebook es generar una animación que muestra el fenómeno de radiación de Cherenkov, que ocurre cuando una partícula cargada se mueve a través de un medio dieléctrico a una velocidad mayor que la velocidad de fase de la luz en ese medio. "
   ]
  },
  {
   "cell_type": "markdown",
   "id": "467a9562-d488-42be-af56-17caa1d7627a",
   "metadata": {},
   "source": [
    "### _**Importación de librerias**_"
   ]
  },
  {
   "cell_type": "code",
   "execution_count": null,
   "id": "0fe64530-7cef-4d42-a52e-4561758d7634",
   "metadata": {},
   "outputs": [],
   "source": [
    "import meep as mp\n",
    "import numpy as np\n",
    "import matplotlib.pyplot as plt\n",
    "from matplotlib.animation import FuncAnimation\n",
    "import time\n"
   ]
  },
  {
   "cell_type": "markdown",
   "id": "335ea99a-9c10-430c-b90d-4aa3d456b408",
   "metadata": {},
   "source": [
    "### _**Parámetros de simulación**_"
   ]
  },
  {
   "cell_type": "markdown",
   "id": "272b1c6e-9800-40cb-8ea6-07b47fda641f",
   "metadata": {},
   "source": [
    "Definimos las condiciones de la simulacion tales como el tamaño de celda, las PML layers, la velocidad de nuestra carga , y el indice de refraccion del medio. Posteriormente agregamos el entorno de simulación"
   ]
  },
  {
   "cell_type": "code",
   "execution_count": 1,
   "id": "a2d2c46c-c026-4b9d-a396-fca1f0bb1c9b",
   "metadata": {},
   "outputs": [
    {
     "name": "stdout",
     "output_type": "stream",
     "text": [
      "Capturando frames cada 0.2 unidades de tiempo...\n",
      "-----------\n",
      "Initializing structure...\n",
      "Halving computational cell along direction y\n",
      "time for choose_chunkdivision = 0.000657797 s\n",
      "Working in 2D dimensions.\n",
      "Computational cell is 60 x 60 x 0 with resolution 10\n",
      "time for set_epsilon = 0.204004 s\n",
      "-----------\n",
      "Meep progress: 23.400000000000002/60.0 = 39.0% done in 4.0s, 6.3s to go\n",
      "on time step 468 (time=23.4), 0.00858627 s/step\n",
      "Meep progress: 47.0/60.0 = 78.3% done in 8.0s, 2.2s to go\n",
      "on time step 940 (time=47), 0.00850144 s/step\n",
      "run 0 finished at t = 60.0 (1200 timesteps)\n",
      "Simulación completada en 10.6s\n",
      "Frames capturados: 300\n",
      "\n",
      "Creando animación...\n",
      "Guardando animación como 'cherenkov_radiation.mp4'...\n",
      "¡Animación guardada con éxito!\n"
     ]
    }
   ],
   "source": [
    "\n",
    "## Tamaño de la celda\n",
    "sx = 60\n",
    "sy = 60\n",
    "cell_size = mp.Vector3(sx, sy, 0)\n",
    "\n",
    "dpml = 1.0\n",
    "pml_layers = [mp.PML(thickness=dpml)]\n",
    "\n",
    "v = 1.0  # velocidad de la carga\n",
    "source_position = mp.Vector3(-0.5 * sx + dpml, 0, 0)  # Initial source position\n",
    "\n",
    "symmetries = [mp.Mirror(direction=mp.Y)]\n",
    "\n",
    "sim = mp.Simulation( #Inicio de la simulacion\n",
    "    resolution=10,\n",
    "    cell_size=cell_size,\n",
    "    default_material=mp.Medium(index=1.5),\n",
    "    symmetries=symmetries,\n",
    "    boundary_layers=pml_layers,\n",
    ")\n",
    "\n",
    "# Ejecutar la visualización\n",
    "output_file = visualize_simulation(\n",
    "    sim=sim,\n",
    "    cell_size=cell_size,\n",
    "    pml_thickness=dpml,\n",
    "    source_position_func=move_source,\n",
    "    max_time=sx/v,\n",
    "    frame_interval=0.2,\n",
    "    output_filename='cherenkov_radiation.mp4'\n",
    ")\n",
    "\n",
    "# Mostrar el video en el notebook (si estás usando Jupyter)\n",
    "try:\n",
    "    from IPython.display import Video\n",
    "    Video(output_file)\n",
    "except ImportError:\n",
    "    print(f\"Animación guardada como {output_file}\")"
   ]
  },
  {
   "cell_type": "markdown",
   "id": "6ecff2c1-298e-4cd8-932b-ccd781fad537",
   "metadata": {},
   "source": [
    "### _**Definición de funciones**_"
   ]
  },
  {
   "cell_type": "markdown",
   "id": "8036ce01-1958-4ea9-b0e1-70327bcac249",
   "metadata": {},
   "source": [
    "Definimos dos funciones. La funcion de visualizacion usada en notebooks anteriores para ver como se comporta el sistema en el tiempo, y la funcion de mocimiento de carga. Esta funcion tiene como objetivo actulizar continuamente la posicion de la fuente durante la simulacion. Esto adicionado con la baja frecuencia que se le da al parametro source ayuda a emular el comportamiento de una carga puntual."
   ]
  },
  {
   "cell_type": "code",
   "execution_count": 2,
   "id": "2ec92ef0-5260-4e0c-86f1-f90ef1c819d1",
   "metadata": {},
   "outputs": [],
   "source": [
    "#Funcion de movimiento de carga\n",
    "def move_source(sim):\n",
    "    current_position = mp.Vector3(-0.5 * sx + dpml + v * sim.meep_time(), 0, 0)\n",
    "    sim.change_sources(\n",
    "        [\n",
    "            mp.Source(\n",
    "                mp.ContinuousSource(frequency=1e-10), ##Frecuencia baja para simula una carga puntual\n",
    "                component=mp.Ex,\n",
    "                center=current_position,\n",
    "            )\n",
    "        ]\n",
    "    )\n",
    "    return current_position\n",
    "#Funcion de visualizacion\n",
    "def visualize_simulation(sim, cell_size, pml_thickness, source_position_func, \n",
    "                         max_time, frame_interval, output_filename='animation.mp4'):\n",
    "    \"\"\"\n",
    "    Visualiza una simulación de Meep con animación 2D\n",
    "    \n",
    "    Parámetros:\n",
    "    sim: Objeto de simulación Meep\n",
    "    cell_size: Tamaño de la celda de simulación\n",
    "    pml_thickness: Grosor de las capas PML\n",
    "    source_position_func: Función que devuelve la posición actual de la fuente\n",
    "    max_time: Tiempo máximo de simulación\n",
    "    frame_interval: Intervalo entre frames capturados\n",
    "    output_filename: Nombre del archivo de salida para la animación\n",
    "    \"\"\"\n",
    "    \n",
    "    frames = []\n",
    "    times = []\n",
    "    source_positions = []\n",
    "    \n",
    "    # Función para capturar frames\n",
    "    def capture_frame(sim):\n",
    "        current_source_pos = move_source(sim)\n",
    "        ez_data = sim.get_array(center=mp.Vector3(), size=mp.Vector3(cell_size.x, cell_size.y, 0), component=mp.Hz)\n",
    "        frames.append(ez_data.transpose())\n",
    "        times.append(sim.meep_time())\n",
    "        source_positions.append(current_source_pos.x)\n",
    "        return\n",
    "    \n",
    "    # Ejecutar simulación para animación\n",
    "    print(f\"Capturando frames cada {frame_interval} unidades de tiempo...\")\n",
    "    start_time = time.time()\n",
    "    sim.run(\n",
    "        mp.at_every(frame_interval, capture_frame),\n",
    "        until=max_time\n",
    "    )\n",
    "    print(f\"Simulación completada en {time.time()-start_time:.1f}s\")\n",
    "    print(f\"Frames capturados: {len(frames)}\")\n",
    "    \n",
    "    if len(frames) == 0:\n",
    "        print(\"Error: No se capturaron frames para la animación\")\n",
    "        return\n",
    "    \n",
    "    # Crear animación\n",
    "    print(\"\\nCreando animación...\")\n",
    "    \n",
    "    # Calcular rango de color consistente\n",
    "    all_data = np.concatenate([f.flatten() for f in frames])\n",
    "    vmax = np.percentile(np.abs(all_data), 99.5) * 1.2\n",
    "    vmin = -vmax\n",
    "    \n",
    "    # Configurar figura\n",
    "    fig, ax = plt.subplots(figsize=(10, 8))\n",
    "    extent = [-cell_size.x/2, cell_size.x/2, -cell_size.y/2, cell_size.y/2]\n",
    "    \n",
    "    # Mostrar primer frame\n",
    "    im = ax.imshow(frames[0], cmap='RdBu', vmin=vmin, vmax=vmax,\n",
    "                  extent=extent, animated=True, aspect='equal')\n",
    "    \n",
    "    # Añadir barra de color\n",
    "    cbar = fig.colorbar(im, ax=ax)\n",
    "    cbar.set_label('Campo Magnético ($H_z$)', fontsize=12)\n",
    "    \n",
    "    # Marcar regiones importantes\n",
    "    pml_boundary = cell_size.x/2 - pml_thickness\n",
    "    ax.axvline(x=-pml_boundary, color='gray', linestyle='--', alpha=0.7, label='PML Interior')\n",
    "    ax.axvline(x=pml_boundary, color='gray', linestyle='--', alpha=0.7)\n",
    "    ax.axhline(y=-pml_boundary, color='gray', linestyle='--', alpha=0.7)\n",
    "    ax.axhline(y=pml_boundary, color='gray', linestyle='--', alpha=0.7)\n",
    "    \n",
    "    # Configuración de título y etiquetas\n",
    "    ax.set_title(f'Carga en Movimiento (t = {times[0]:.1f})', fontsize=14)\n",
    "    ax.set_xlabel('Posición X', fontsize=12)\n",
    "    ax.set_ylabel('Posición Y', fontsize=12)\n",
    "    \n",
    "    # Función de actualización para la animación\n",
    "    def update(frame):\n",
    "        im.set_array(frames[frame])\n",
    "        ax.set_title(f'Carga en Movimiento (t = {times[frame]:.1f})', fontsize=14)\n",
    "        \n",
    "        # Actualizar posición de la fuente (eliminar línea anterior y dibujar nueva)\n",
    "        for artist in ax.lines[4:]:  # Eliminar líneas de fuente anteriores\n",
    "            artist.remove()\n",
    "        ax.axvline(x=source_positions[frame], color='green', linestyle='-', alpha=0.5, label='Fuente')\n",
    "        \n",
    "        return im,\n",
    "    \n",
    "    # Crear animación\n",
    "    anim = FuncAnimation(\n",
    "        fig, \n",
    "        update, \n",
    "        frames=len(frames),\n",
    "        interval=100,  # Tiempo entre frames en ms\n",
    "        blit=True\n",
    "    )\n",
    "    \n",
    "    plt.close(fig)  # Cerrar figura para ahorrar memoria\n",
    "    \n",
    "    # Guardar animación\n",
    "    print(f\"Guardando animación como '{output_filename}'...\")\n",
    "    anim.save(output_filename, writer='ffmpeg', fps=20, dpi=120, bitrate=1800)\n",
    "    print(\"¡Animación guardada con éxito!\")\n",
    "    \n",
    "    return output_filename\n"
   ]
  },
  {
   "cell_type": "code",
   "execution_count": null,
   "id": "ee5853ab-d821-4096-a654-3992eb4e340e",
   "metadata": {},
   "outputs": [],
   "source": []
  }
 ],
 "metadata": {
  "kernelspec": {
   "display_name": "Python 3 (ipykernel)",
   "language": "python",
   "name": "python3"
  },
  "language_info": {
   "codemirror_mode": {
    "name": "ipython",
    "version": 3
   },
   "file_extension": ".py",
   "mimetype": "text/x-python",
   "name": "python",
   "nbconvert_exporter": "python",
   "pygments_lexer": "ipython3",
   "version": "3.13.5"
  }
 },
 "nbformat": 4,
 "nbformat_minor": 5
}
