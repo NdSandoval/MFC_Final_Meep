{
  "nbformat": 4,
  "nbformat_minor": 0,
  "metadata": {
    "colab": {
      "provenance": []
    },
    "kernelspec": {
      "name": "python3",
      "display_name": "Python 3"
    },
    "language_info": {
      "name": "python"
    }
  },
  "cells": [
    {
      "cell_type": "markdown",
      "source": [
        "1. Importación de paquetes\n",
        "Primero, importamos las bibliotecas necesarias para la simulación y el análisis de datos:"
      ],
      "metadata": {
        "id": "aJFwrBbxEYg0"
      }
    },
    {
      "cell_type": "code",
      "source": [
        "import h5py\n",
        "import matplotlib.pyplot as plt\n",
        "import meep as mp\n",
        "import numpy as np\n",
        "import os"
      ],
      "metadata": {
        "id": "wCljVhhmDpKU"
      },
      "execution_count": null,
      "outputs": []
    },
    {
      "cell_type": "markdown",
      "source": [
        "Definimos funciones auxiliares para mostrar los campos e intensidades que genere la simulación. Esto nos evitará repetir código más adelante."
      ],
      "metadata": {
        "id": "YKdZEFZSEcuu"
      }
    },
    {
      "cell_type": "markdown",
      "source": [
        "## Visualización de campos y geometría\n"
      ],
      "metadata": {
        "id": "rnq1INTzFJZb"
      }
    },
    {
      "cell_type": "code",
      "source": [
        "from matplotlib.colors import LinearSegmentedColormap\n",
        "\n",
        "plt.rcParams['figure.dpi'] = 300\n",
        "# Mejora la resolución al mostrar figuras en pantalla\n",
        "plt.rcParams['savefig.dpi'] = 300\n",
        "# Mejora la resolución de las imágenes guardadas\n",
        "\n",
        "plt.style.use('dark_background')"
      ],
      "metadata": {
        "id": "URrQ7Tc_FTV-"
      },
      "execution_count": null,
      "outputs": []
    },
    {
      "cell_type": "markdown",
      "source": [],
      "metadata": {
        "id": "W-kdPlWrJoZt"
      }
    },
    {
      "cell_type": "markdown",
      "source": [
        "El colormap cmap_alpha crea un gradiente de color blanco que varía en transparencia, desde completamente transparente hasta completamente opaco. Esto se usa para mostrar la geometría del sistema (como las paredes y rendijas) sin bloquear la vista de los campos electromagnéticos simulados, permitiendo superponer ambos en una misma gráfica."
      ],
      "metadata": {
        "id": "S_F9e09NGQNw"
      }
    },
    {
      "cell_type": "code",
      "source": [
        "cmap_alpha = LinearSegmentedColormap.from_list(\n",
        "    'custom_alpha', [[1, 1, 1, 0], [1, 1, 1, 1]])\n"
      ],
      "metadata": {
        "id": "swaMdkMDFigx"
      },
      "execution_count": null,
      "outputs": []
    },
    {
      "cell_type": "markdown",
      "source": [
        "este mapa de calor es el correspondiente al color del campo $E_z$"
      ],
      "metadata": {
        "id": "7MSIownGGcg8"
      }
    },
    {
      "cell_type": "code",
      "source": [
        "cmap_blue = LinearSegmentedColormap.from_list(\n",
        "    'custom_blue', [[0, 0, 0], [0, 0.66, 1], [1, 1, 1]])"
      ],
      "metadata": {
        "id": "WKI_fve0Gdus"
      },
      "execution_count": null,
      "outputs": []
    },
    {
      "cell_type": "markdown",
      "source": [
        "## Funciones\n"
      ],
      "metadata": {
        "id": "gYIFkuZRH_Xw"
      }
    },
    {
      "cell_type": "code",
      "source": [
        "def label_plot(ax, title=None, xlabel=None, ylabel=None, elapsed=None):\n",
        "    if title:\n",
        "        ax.set_title(title)\n",
        "    elif elapsed is not None:\n",
        "        ax.set_title(f'{elapsed:0.1f} fs')\n",
        "    if xlabel is not False:\n",
        "        ax.set_xlabel('x (μm)'if xlabel is None else xlabel)\n",
        "    if ylabel is not False:\n",
        "        ax.set_ylabel('y (μm)'if ylabel is None else ylabel)"
      ],
      "metadata": {
        "id": "v0jAXYiOIEBX"
      },
      "execution_count": null,
      "outputs": []
    },
    {
      "cell_type": "markdown",
      "source": [
        "Esta función se encarga de etiquetar un gráfico con un título y nombres de ejes. Si se proporciona un título (title), lo muestra arriba de la gráfica; si no, y se entrega un valor de tiempo transcurrido (elapsed), se muestra ese tiempo en femtosegundos como título."
      ],
      "metadata": {
        "id": "2UiEDY7IIQ5p"
      }
    },
    {
      "cell_type": "code",
      "source": [
        "def plot_eps_data(eps_data, domain, ax=None, **kwargs):\n",
        "    ax = ax or plt.gca()\n",
        "    ax.imshow(eps_data.T, cmap=cmap_alpha, extent=domain, origin='lower')\n",
        "    label_plot(ax, **kwargs)"
      ],
      "metadata": {
        "id": "ZcMmz94bIguK"
      },
      "execution_count": null,
      "outputs": []
    },
    {
      "cell_type": "markdown",
      "source": [
        "Esta función grafica la geometría del dominio simulado, usando los valores de permitividad dieléctrica (eps_data). El parámetro domain especifica el área física del gráfico."
      ],
      "metadata": {
        "id": "zhv30TS4I5wo"
      }
    },
    {
      "cell_type": "code",
      "source": [
        "def plot_ez_data(ez_data, domain, ax=None, vmax=None, aspect=None, **kwargs):\n",
        "    ax = ax or plt.gca()\n",
        "    ax.imshow(\n",
        "        np.abs(ez_data.T),\n",
        "        interpolation='spline36',\n",
        "        cmap=cmap_blue,\n",
        "        extent=domain,\n",
        "        vmax=vmax,\n",
        "        aspect=aspect,\n",
        "        origin='lower',\n",
        "        )\n",
        "    label_plot(ax, **kwargs)"
      ],
      "metadata": {
        "id": "y1eAZKkmJOZK"
      },
      "execution_count": null,
      "outputs": []
    },
    {
      "cell_type": "markdown",
      "source": [
        "Esta función muestra la intensidad del campo eléctrico simulado, específicamente el componente Ez. Para ello, toma los valores complejos del campo y grafica su magnitud (valor absoluto) usando un colormap azul personalizado (cmap_blue)."
      ],
      "metadata": {
        "id": "cywPW7OPJQX7"
      }
    },
    {
      "cell_type": "code",
      "source": [
        "def plot_pml(pml_thickness, domain, ax=None):\n",
        "    ax = ax or plt.gca()\n",
        "    x_start = domain[0] + pml_thickness\n",
        "    x_end = domain[1] - pml_thickness\n",
        "    y_start = domain[2] + pml_thickness\n",
        "    y_end = domain[3] - pml_thickness\n",
        "    rect = plt.Rectangle(\n",
        "        (x_start, y_start),\n",
        "        x_end - x_start,\n",
        "        y_end - y_start,\n",
        "        fill=None,\n",
        "        color='#fff',\n",
        "        linestyle='dashed',\n",
        "        )\n",
        "    ax.add_patch(rect)"
      ],
      "metadata": {
        "id": "zOV0KpHQJZS_"
      },
      "execution_count": null,
      "outputs": []
    },
    {
      "cell_type": "markdown",
      "source": [
        "Esta función dibuja un rectángulo punteado que marca el borde interior del dominio de simulación, excluyendo las regiones absorbentes (PML). Calcula esta zona útil restando el grosor del PML a cada borde del dominio. Así, el rectángulo representa el área donde realmente ocurre la simulación"
      ],
      "metadata": {
        "id": "G9ohuyKyJaGk"
      }
    },
    {
      "cell_type": "markdown",
      "source": [
        "## Unidades en meep"
      ],
      "metadata": {
        "id": "at26AHDWKVoK"
      }
    },
    {
      "cell_type": "markdown",
      "source": [
        "Meep no trabaja con unidades físicas absolutas como metros o segundos, sino que utiliza unidades adimensionales basadas en la escala de las ecuaciones de Maxwell, que son invariantes bajo cambios de escala. En este caso, elegimos trabajar con micrómetros (μm) para longitud y femtosegundos (fs) para tiempo. Internamente, Meep define la velocidad de la luz como igual a 1, lo cual implica que 1 unidad de tiempo en Meep es el tiempo que la luz tarda en recorrer 1 unidad de distancia. Por ejemplo, si usamos micrómetros como unidad de distancia, entonces una unidad de tiempo en Meep equivale al tiempo que tarda la luz en recorrer 1 μm. Como la velocidad de la luz en el vacío es aproximadamente c = 299792458m/s= 0.3μm/fs"
      ],
      "metadata": {
        "id": "AHXQwl9sKg4d"
      }
    },
    {
      "cell_type": "markdown",
      "source": [
        "## Dominio y geometría"
      ],
      "metadata": {
        "id": "4keccJdzLYXG"
      }
    },
    {
      "cell_type": "markdown",
      "source": [
        " En primer lugar, se establece el valor de la velocidad de la luz en unidades de micrómetros por femtosegundo (μm/fs), que es aproximadamente 0.2998. Esto permite convertir fácilmente entre unidades físicas y unidades naturales de Meep. Luego se define el dominio espacial bidimensional en el cual se llevará a cabo la simulación. Este dominio tiene un tamaño de 30 μm de ancho por 20 μm de alto, y se centra automáticamente usando el objeto mp.Vector3. También se crea una variable cell_size que representa las dimensiones del dominio como vector, algo que Meep requiere para inicializar el espacio de simulación.\n",
        "\n"
      ],
      "metadata": {
        "id": "P6B7Z3kqLgAp"
      }
    },
    {
      "cell_type": "code",
      "source": [
        "SOL = 299792458e-9\n",
        "\n",
        "# 2D spatial domain measured in μm\n",
        "domain = [0, 30, -10, 10]\n",
        "center = mp.Vector3(\n",
        "    (domain[1] + domain[0]) / 2,\n",
        "    (domain[3] + domain[2]) / 2,\n",
        "    )\n",
        "cell_size = mp.Vector3(\n",
        "    domain[1] - domain[0],\n",
        "    domain[3] - domain[2],\n",
        "    )"
      ],
      "metadata": {
        "id": "FqTr7QgEJjH3"
      },
      "execution_count": null,
      "outputs": []
    },
    {
      "cell_type": "markdown",
      "source": [
        "Este segmento de código construye la geometría de una pared con doble rendija usando tres bloques verticales de material altamente dieléctrico, que bloquean la luz. Los dos bloques laterales forman los bordes de la pared, y el bloque central separa las dos aberturas. Además, se añaden capas PML alrededor del dominio para absorber las ondas en los bordes y evitar reflexiones, simulando un espacio abierto.\n",
        "\n"
      ],
      "metadata": {
        "id": "b0I23DiZMDkw"
      }
    },
    {
      "cell_type": "code",
      "source": [
        "wall_position = 10\n",
        "# Pared ubicada a 10 μm desde el borde izquierdo del dominio\n",
        "wall_thickness = 0.5\n",
        "# Grosor de la pared (bloques) en dirección x\n",
        "aperture_width = 1\n",
        "# Ancho de cada rendija (apertura) en dirección y\n",
        "inner_wall_len = 4\n",
        "# Altura del bloque central que separa las dos rendijas"
      ],
      "metadata": {
        "id": "K_uhcK4SPdRz"
      },
      "execution_count": null,
      "outputs": []
    },
    {
      "cell_type": "markdown",
      "source": [
        "Cálculo del tamaño de los bloques exteriores:"
      ],
      "metadata": {
        "id": "aipl9K6uPky1"
      }
    },
    {
      "cell_type": "code",
      "source": [
        "outer_wall_len = (\n",
        "    cell_size[1]\n",
        "    - 2*aperture_width\n",
        "    - inner_wall_len\n",
        ") / 2\n",
        "\n",
        "material = mp.Medium(epsilon=1e6)  # Medio dieléctrico muy denso"
      ],
      "metadata": {
        "id": "nwyVvY_KPnO1"
      },
      "execution_count": null,
      "outputs": []
    },
    {
      "cell_type": "markdown",
      "source": [
        "Los tres bloques (mp.Block) están dispuestos verticalmente y ubicados con coordenadas centradas respecto al dominio de Meep (center.x se resta para centrar correctamente)."
      ],
      "metadata": {
        "id": "ZXBuAGC_P-JB"
      }
    },
    {
      "cell_type": "code",
      "source": [
        "geometry = [\n",
        "    mp.Block(\n",
        "        mp.Vector3(wall_thickness, outer_wall_len, mp.inf),\n",
        "        center=mp.Vector3(\n",
        "            wall_position - center.x,\n",
        "            domain[3] - outer_wall_len / 2),\n",
        "        material=material),\n",
        "    mp.Block(\n",
        "        mp.Vector3(wall_thickness, outer_wall_len, mp.inf),\n",
        "        center=mp.Vector3(\n",
        "            wall_position - center.x,\n",
        "            domain[2] + outer_wall_len / 2),\n",
        "        material=material),\n",
        "    mp.Block(\n",
        "        mp.Vector3(wall_thickness, inner_wall_len, mp.inf),\n",
        "        center=mp.Vector3(wall_position - center.x, 0),\n",
        "        material=material),\n",
        "    ]"
      ],
      "metadata": {
        "id": "0z9u5KgLQBAr"
      },
      "execution_count": null,
      "outputs": []
    },
    {
      "cell_type": "markdown",
      "source": [
        "Al final, se crea la capa PML que crea un recubrimiento alrededor del dominio que absorbe las ondas salientes sin reflexión."
      ],
      "metadata": {
        "id": "l2UyFZfBQFPi"
      }
    },
    {
      "cell_type": "code",
      "source": [
        "pml_thickness = 1\n",
        "pml_layers = [mp.PML(pml_thickness)]"
      ],
      "metadata": {
        "id": "Cazo95JsQJxP"
      },
      "execution_count": null,
      "outputs": []
    },
    {
      "cell_type": "code",
      "source": [
        "# Extract and visualize the dielectric data (wall geometry)\n",
        "sim = mp.Simulation(cell_size=cell_size, geometry=geometry, resolution=10)\n",
        "sim.init_sim()\n",
        "eps_data = sim.get_array(center=mp.Vector3(), size=cell_size, component=mp.Dielectric)\n",
        "ax = plt.gca()\n",
        "plot_pml(pml_thickness, domain, ax=ax)\n",
        "plot_eps_data(eps_data, domain, ax=ax)"
      ],
      "metadata": {
        "id": "65PXHgkBQdxA"
      },
      "execution_count": null,
      "outputs": []
    },
    {
      "cell_type": "markdown",
      "source": [
        "## Fuente de luz"
      ],
      "metadata": {
        "id": "n9pYo5gGQfVv"
      }
    },
    {
      "cell_type": "markdown",
      "source": [
        "En esta sección definimos una fuente de luz con características similares a un láser, utilizando una longitud de onda de 470 nanómetros (0.47 μm), correspondiente a luz azul visible. La frecuencia se calcula como el inverso de la longitud de onda, ya que en las unidades de Meep la velocidad de la luz es igual a 1. El haz tendrá un ancho de 6 μm, suficiente para cubrir ambas rendijas. La idea es simular un haz colimado, es decir, un haz cuyos rayos son paralelos y no se dispersan, lo cual es típico en un láser real. Sin embargo, Meep no ofrece directamente una fuente colimada, ya que $GaussianBeam2DSource$ requiere un punto focal, lo que implica divergencia. Para superar esta limitación, se define manualmente una función de amplitud que describe una onda plana compleja que se propaga en la dirección x, utilizando una exponencial compleja (np.exp). Esta estrategia permite construir un haz láser continuo, direccional y estacionario, ideal para estudiar la interferencia producida por la doble rendija."
      ],
      "metadata": {
        "id": "cfTZzF0MRJhW"
      }
    },
    {
      "cell_type": "code",
      "source": [
        "source_lambda = 0.47  # in μm\n",
        "source_frequency = 1 / source_lambda\n",
        "source_beam_width = 6"
      ],
      "metadata": {
        "id": "gqGcBiUtQ8WW"
      },
      "execution_count": null,
      "outputs": []
    },
    {
      "cell_type": "code",
      "source": [
        "# A method to return a complex-valued plane wave in the x-direction\n",
        "def plane_wave(x):\n",
        "    return np.exp(2j * np.pi / source_lambda * x)\n",
        "\n",
        "# Plot the plane wave\n",
        "xarr = np.linspace(0, 10*source_lambda, 1000)\n",
        "wave = plane_wave(xarr)\n",
        "plt.plot(xarr, wave.real)\n",
        "plt.xlabel('x (μm)')\n",
        "plt.ylabel('Amplitude')\n",
        "plt.grid(True)"
      ],
      "metadata": {
        "id": "9iJj6lwVRZRq"
      },
      "execution_count": null,
      "outputs": []
    },
    {
      "cell_type": "markdown",
      "source": [
        "Se define una segunda función que calcula el perfil gaussiano del haz a lo largo del eje y, que representa cómo varía la intensidad de la luz en dirección perpendicular a la propagación del haz. Este perfil tiene su valor máximo en el centro del haz (en y = 0) y disminuye simétricamente hacia los lados. La caída de la intensidad se describe con una distribución Gaussiana, cuya desviación estándar se toma como la mitad del ancho del haz (source_beam_width / 2), lo cual determina cuán concentrado o difuso es el haz. Esta función nos da una sección transversal del haz láser: cuando se grafica, muestra un pico en el centro y una disminución suave hacia los extremos, lo que refleja cómo la intensidad disminuye lejos del eje central. Combinando este perfil con la onda plana compleja de propagación, se obtiene una fuente personalizada que se comporta como un haz láser colimado, ideal para la simulación de interferencia en el experimento de doble rendija."
      ],
      "metadata": {
        "id": "a6owVRF_R2bP"
      }
    },
    {
      "cell_type": "code",
      "source": [
        "def gaussian_profile(y):\n",
        "    return np.exp(-y**2 / (2 * (source_beam_width / 2)**2))\n",
        "\n",
        "# Plot the Guassian profile\n",
        "yarr = np.linspace(domain[2], domain[3], 200)\n",
        "prof = gaussian_profile(yarr)\n",
        "plt.plot(yarr, prof)\n",
        "plt.xlabel('y (μm)')\n",
        "plt.ylabel('Amplitude')\n",
        "plt.grid(True)"
      ],
      "metadata": {
        "id": "IdRx4_ArR5Gb"
      },
      "execution_count": null,
      "outputs": []
    },
    {
      "cell_type": "markdown",
      "source": [
        "Una vez definidas por separado la onda plana compleja (que representa la propagación del haz en dirección x) y el perfil gaussiano transversal (que modela la forma del haz en dirección y), se combinan multiplicándolas punto a punto sobre una malla 2D de coordenadas. Esta combinación da como resultado una función que describe la amplitud compleja total del haz láser en cada punto del plano. El producto entre ambas funciones genera un haz que viaja en la dirección x, con una distribución gaussiana en y, emulando un láser colimado. El resultado se grafica usando un mapa de colores (imshow), visualizando la parte real de la amplitud del campo eléctrico, lo cual muestra cómo se distribuye espacialmente la onda en el dominio de simulación."
      ],
      "metadata": {
        "id": "HgplX7CeSL-1"
      }
    },
    {
      "cell_type": "code",
      "source": [
        "X, Y = np.meshgrid(xarr, yarr)\n",
        "\n",
        "# Plot the combined terms\n",
        "combined = plane_wave(X) * gaussian_profile(Y)\n",
        "plt.imshow(\n",
        "    np.real(combined),\n",
        "    cmap='coolwarm',\n",
        "    aspect='auto',\n",
        "    extent=[xarr[0], xarr[-1], yarr[0], yarr[-1]],\n",
        "    origin='lower',\n",
        "    )\n",
        "plt.xlabel('x (μm)')\n",
        "plt.ylabel('y (μm)')"
      ],
      "metadata": {
        "id": "hY5ax4fKSMjd"
      },
      "execution_count": null,
      "outputs": []
    },
    {
      "cell_type": "markdown",
      "source": [
        "Con la función combinada de onda plana y perfil gaussiano definida anteriormente, ahora se construye una fuente de luz en Meep usando el objeto mp.Source. Esta fuente es continua en el tiempo (ContinuousSource) y se configura con la frecuencia deseada, que determina qué tan rápido oscila el campo eléctrico. Se especifica que la fuente actúa sobre el componente Ez del campo, lo que indica una polarización perpendicular al plano de la simulación (modo TM en 2D)."
      ],
      "metadata": {
        "id": "6iHQQjnQSgfR"
      }
    },
    {
      "cell_type": "code",
      "source": [
        "def amp_func(pos):\n",
        "    return plane_wave(pos[0]) * gaussian_profile(pos[1])\n",
        "\n",
        "source = mp.Source(\n",
        "    src=mp.ContinuousSource(\n",
        "        frequency=source_frequency,\n",
        "        is_integrated=True,\n",
        "        ),\n",
        "    component=mp.Ez,\n",
        "    center= mp.Vector3(1, 0, 0) - center,  # positioned far-left, excluding PML\n",
        "    size=mp.Vector3(y=cell_size[1]),       # span entire height, including PML\n",
        "    amp_func=amp_func,\n",
        "    )"
      ],
      "metadata": {
        "id": "WYQLeyefSg66"
      },
      "execution_count": null,
      "outputs": []
    },
    {
      "cell_type": "markdown",
      "source": [
        "La fuente se coloca sobre el borde izquierdo del dominio, justo antes del PML, y se extiende verticalmente a lo largo de toda la altura del dominio (incluyendo el PML). La clave está en el parámetro amp_func, al cual se le asigna la función combinada que define la distribución espacial del campo: una onda plana modulada por una envolvente gaussiana. Además, se utiliza is_integrated=True para que Meep maneje correctamente la parte de la fuente que entra en las regiones PML, evitando efectos no deseados en los bordes. Es importante notar que la frecuencia y la longitud de onda (source_lambda) se definen por separado: la frecuencia controla el comportamiento temporal de la fuente, mientras que la longitud de onda en amp_func determina su fase espacial inicial."
      ],
      "metadata": {
        "id": "sauRQZQlSr1d"
      }
    },
    {
      "cell_type": "markdown",
      "source": [
        "# Simulación"
      ],
      "metadata": {
        "id": "0w2BB2EeSvxf"
      }
    },
    {
      "cell_type": "markdown",
      "source": [
        "Finalmente, estamos listas para construir y ejecutar la simulación. El primer paso clave es definir una resolución adecuada, lo que significa establecer cuántos píxeles por micrómetro usará Meep para discretizar el dominio espacial.\n",
        "En Meep, la resolución se especifica a través del parámetro resolution en la clase Simulation, y tiene un impacto directo tanto en la precisión de los resultados como en el costo computacional.\n",
        "\n",
        "1. Longitud de onda de la luz:\n",
        "\n",
        "La rejilla debe ser suficientemente fina para representar con precisión la onda.Una regla práctica es usar al menos 8 a 10 píxeles por la menor longitud de onda. Por ejemplo, si la luz tiene una longitud de onda mínima de 0.5 μm, una resolución entre 16 y 20 píxeles/μm es un buen punto de partida.\n",
        "\n",
        "2. Tamaño de los detalles geométricos\n",
        "\n",
        "Si la simulación incluye estructuras pequeñas o delgadas, se requiere una resolución alta para que Meep pueda representarlas correctamente. La resolución debe ser suficiente para capturar los detalles sin distorsión.\n",
        "\n",
        "3. Recursos de simulación\n",
        "\n",
        "A mayor resolución, mayor será el tiempo de simulación y el uso de memoria RAM.\n",
        "\n",
        "4. Compromiso entre precisión y eficiencia\n",
        "\n",
        "Comienza con una resolución moderada, ejecuta la simulación y analiza los resultados. Luego, incrementa la resolución y repite, si los resultados cambian mucho, la resolución inicial era insuficiente. Cuando los resultados se estabilizan (es decir, no cambian notablemente al aumentar la resolución), has encontrado una resolución adecuada.\n",
        "\n",
        "\n"
      ],
      "metadata": {
        "id": "vQUf2EwUTpmo"
      }
    },
    {
      "cell_type": "code",
      "source": [
        "smallest_length = min(\n",
        "    source_lambda,\n",
        "    wall_thickness,\n",
        "    aperture_width,\n",
        "    inner_wall_len,\n",
        ")\n",
        "pixel_count = 10\n",
        "resolution = int(np.ceil(pixel_count / smallest_length))\n",
        "print('Simulation resolution:', resolution)"
      ],
      "metadata": {
        "id": "_Vc9ZBJrStle"
      },
      "execution_count": null,
      "outputs": []
    },
    {
      "cell_type": "markdown",
      "source": [
        "### Creación de la simulación"
      ],
      "metadata": {
        "id": "XNCRHbq0UtXi"
      }
    },
    {
      "cell_type": "code",
      "source": [
        "sim = mp.Simulation(\n",
        "    cell_size=cell_size,\n",
        "    # Tamaño del dominio simulado (Vector3)\n",
        "    sources=[source],\n",
        "    # Lista de fuentes de luz definidas previamente\n",
        "    boundary_layers=pml_layers,\n",
        "    # Capas PML para absorber las ondas en los bordes\n",
        "    geometry=geometry,\n",
        "    # Geometría de la doble rendija (los 3 bloques)\n",
        "    resolution=resolution,\n",
        "    # Resolución espacial (píxeles/μm)\n",
        "    force_complex_fields=True,\n",
        "    # Obliga a Meep a usar campos complejos (necesario para ver fase)\n",
        ")"
      ],
      "metadata": {
        "id": "-aqVVPSRUyQg"
      },
      "execution_count": null,
      "outputs": []
    },
    {
      "cell_type": "code",
      "source": [
        "def get_data(sim, cell_size):\n",
        "    ez_data = sim.get_array(\n",
        "        center=mp.Vector3(), size=cell_size, component=mp.Ez)\n",
        "    eps_data = sim.get_array(\n",
        "        center=mp.Vector3(), size=cell_size, component=mp.Dielectric)\n",
        "    return ez_data, eps_data"
      ],
      "metadata": {
        "id": "8uxMPQpHVZBp"
      },
      "execution_count": null,
      "outputs": []
    },
    {
      "cell_type": "markdown",
      "source": [
        "para ejecutar la simulación en meep"
      ],
      "metadata": {
        "id": "ZIwPiT0eVd_a"
      }
    },
    {
      "cell_type": "code",
      "source": [
        "sim.run(until=cell_size[0] + 10)\n",
        "ez_data, eps_data = get_data(sim, cell_size)"
      ],
      "metadata": {
        "id": "WHpIo2sVVhFu"
      },
      "execution_count": null,
      "outputs": []
    },
    {
      "cell_type": "markdown",
      "source": [
        " Después de ejecutar la simulación, se extraen los datos de campo eléctrico y geometría mediante la función get_data."
      ],
      "metadata": {
        "id": "NX5gBEBvVljO"
      }
    },
    {
      "cell_type": "code",
      "source": [
        "ax = plt.gca()\n",
        "plot_ez_data(ez_data, domain, ax=ax)\n",
        "plot_eps_data(eps_data, domain, ax=ax)\n",
        "plot_pml(pml_thickness, domain, ax=ax)"
      ],
      "metadata": {
        "id": "u4WM35_kVmbt"
      },
      "execution_count": null,
      "outputs": []
    },
    {
      "cell_type": "markdown",
      "source": [
        "En este bloque, organizamos una simulación temporal completa que se ejecuta durante un periodo definido (medido en femtosegundos, fs) y capturamos fotogramas periódicos del campo eléctrico a lo largo del tiempo. Esto nos permite observar de forma detallada cómo la luz se propaga a través del dominio simulado en Meep. Como Meep usa unidades propias, necesitamos convertir el tiempo físico (fs) a unidades Meep multiplicando por la velocidad de la luz (SOL, en μm/fs), para asegurar la coherencia con las unidades sin dimensión del framework.\n",
        "\n",
        "La información generada en cada instante se guarda en un formato binario eficiente (usando h5py), lo que permite manejar grandes cantidades de datos sin comprometer el rendimiento. Para mantener el código limpio y reutilizable, se encapsula toda esta lógica en una función llamada simulate. Esta función se encarga de inicializar la simulación, recorrer los intervalos de tiempo deseados, capturar el campo eléctrico Ez en cada paso, y guardar cada fotograma en disco. De esta forma, podemos ejecutar toda la simulación de una sola vez, sin interrupciones, y registrar todo el proceso de propagación de la luz para su análisis posterior."
      ],
      "metadata": {
        "id": "4gnjNBDKWYxl"
      }
    },
    {
      "cell_type": "code",
      "source": [
        "sim_time = 120  # in fs\n",
        "n_frames = 6\n",
        "\n",
        "# Where to save the results\n",
        "sim_path = 'simulation.h5'\n",
        "\n",
        "# Simulation object\n",
        "sim = mp.Simulation(\n",
        "    cell_size=cell_size,\n",
        "    sources=[source],\n",
        "    boundary_layers=pml_layers,\n",
        "    geometry=geometry,\n",
        "    resolution=resolution,\n",
        "    force_complex_fields=True,\n",
        "    )\n",
        "\n",
        "def simulate(sim, sim_path, sim_time, n_frames):\n",
        "\n",
        "    # Remove previous sim file, if any\n",
        "    if os.path.exists(sim_path):\n",
        "        os.remove(sim_path)\n",
        "\n",
        "    # Time delta (in fs) between snapshots. Note that\n",
        "    # we subtract 1 because we include the initial state\n",
        "    # as the first frame.\n",
        "    fs_delta = sim_time / (n_frames - 1)\n",
        "\n",
        "    # Save data to an HDF5 binary file\n",
        "    with h5py.File(sim_path, 'a') as f:\n",
        "\n",
        "        # Save simulation params for future reference\n",
        "        f.attrs['sim_time'] = sim_time\n",
        "        f.attrs['n_frames'] = n_frames\n",
        "        f.attrs['fs_delta'] = fs_delta\n",
        "        f.attrs['resolution'] = sim.resolution\n",
        "\n",
        "        # Save initial state as first frame\n",
        "        sim.init_sim()\n",
        "        ez_data, eps_data = get_data(sim, cell_size)\n",
        "        f.create_dataset(\n",
        "            'ez_data',\n",
        "            shape=(n_frames, *ez_data.shape),\n",
        "            dtype=ez_data.dtype,\n",
        "            )\n",
        "        f.create_dataset(\n",
        "            'eps_data',\n",
        "            shape=eps_data.shape,\n",
        "            dtype=eps_data.dtype,\n",
        "            )\n",
        "        f['ez_data'][0]  = ez_data\n",
        "        f['eps_data'][:] = eps_data\n",
        "\n",
        "        # Simulate and capture remaining snapshots\n",
        "        for i in range(1, n_frames):\n",
        "\n",
        "            # Run until the next frame time\n",
        "            sim.run(until=SOL * fs_delta)\n",
        "\n",
        "            # Capture electral field data\n",
        "            ez_data, _ = get_data(sim, cell_size)\n",
        "            f['ez_data'][i]  = ez_data\n",
        "\n",
        "simulate(sim, sim_path, sim_time, n_frames)"
      ],
      "metadata": {
        "id": "h_Yl6ZxzWhFK"
      },
      "execution_count": null,
      "outputs": []
    },
    {
      "cell_type": "markdown",
      "source": [
        "Cuando se complete la simulación, visualice las instantáneas una al lado de la otra."
      ],
      "metadata": {
        "id": "hAjwvT2jWqJx"
      }
    },
    {
      "cell_type": "code",
      "source": [
        "the snapshots side-by-side.\n",
        "\n",
        "fig_rows = 3\n",
        "fig_cols = 2\n",
        "n_subplots = fig_rows * fig_cols\n",
        "fig, ax = plt.subplots(\n",
        "    fig_rows,\n",
        "    fig_cols,\n",
        "    figsize=(9, 12),\n",
        "    sharex=False,\n",
        "    sharey=True,\n",
        "    )\n",
        "\n",
        "with h5py.File(sim_path, 'r') as f:\n",
        "    for k in range(n_subplots):\n",
        "        i, j = int(k / fig_cols), (k % fig_cols)\n",
        "        # i, j = (k % fig_rows), int(k / fig_rows)\n",
        "        _ax = ax[i][j]\n",
        "        ez_data = f['ez_data'][k]\n",
        "        eps_data = f['eps_data'][:]\n",
        "        elapsed = k * f.attrs['fs_delta']\n",
        "        vmax = 0.6  # force consistent brightness\n",
        "        plot_ez_data(ez_data, domain, ax=_ax, vmax=vmax, elapsed=elapsed)\n",
        "        plot_eps_data(eps_data, domain, ax=_ax)\n",
        "        plot_pml(pml_thickness, domain, ax=_ax)"
      ],
      "metadata": {
        "id": "UtwFFGyAWq1a"
      },
      "execution_count": null,
      "outputs": []
    },
    {
      "cell_type": "markdown",
      "source": [
        "## Visualización de patrones de interferencia\n",
        "\n",
        "nos centramos en visualizar el patrón de interferencia generado cuando la luz atraviesa las dos rendijas. Al observar cómo este patrón se forma y evoluciona conforme la luz se propaga más allá de la barrera, podemos comprender mejor el fenómeno de interferencia que surge por la superposición de ondas. Es importante recordar que la intensidad de la luz es proporcional al cuadrado de la amplitud del campo eléctrico, por lo que esta magnitud es la que se utiliza para representar la distribución de energía luminosa.\n",
        "\n",
        "Para ello, se utiliza el último fotograma obtenido de la simulación, ya que representa el estado más \"maduro\" del sistema, cuando la luz ha tenido tiempo suficiente para desarrollarse completamente y las ondulaciones residuales son mínimas. A partir de este fotograma, se seleccionan varias secciones transversales (slices) a lo largo del eje x, justo después de las rendijas, para calcular y graficar la intensidad en cada una. Estas secciones permiten ver cómo varía el patrón de interferencia a distintas distancias, revelando los clásicos máximos y mínimos de intensidad causados por la interferencia constructiva y destructiva entre las dos ondas emergentes."
      ],
      "metadata": {
        "id": "8VPEXXvaW51U"
      }
    },
    {
      "cell_type": "code",
      "source": [
        "# Grab final simulation snapshot without time-averaging\n",
        "with h5py.File(sim_path, 'r') as f:\n",
        "    final_snap = f['ez_data'][-1]\n",
        "\n",
        "# Compute intensity as square of the complex amplitude\n",
        "final_snap = np.abs(final_snap)**2\n",
        "\n",
        "# Pick slices at different distances from the double slit\n",
        "slice_dists = [10, 11, 12, 15, 20, 25]\n",
        "slices = [final_snap[i * resolution] for i in slice_dists]\n",
        "yarr = np.linspace(domain[2], domain[3], final_snap.shape[1])\n",
        "\n",
        "# A rather involved plotting function\n",
        "def plot_intensity(slice, yarr, ax1, ax2, vmax=None, xval=None, xlabel=False, ylabel=False):\n",
        "    ax1.plot(yarr, slice)\n",
        "    ax1.tick_params(axis='x', labelbottom=False)\n",
        "    if ylabel:\n",
        "        ax1.set_ylabel('$|E|^2$')\n",
        "    else:\n",
        "        ax1.tick_params('y', labelleft=False)\n",
        "    if xval:\n",
        "        ax1.annotate(\n",
        "            f'x={xval}',\n",
        "            xy=(1, 1),\n",
        "            xytext=(-4, -4),\n",
        "            xycoords='axes fraction',\n",
        "            textcoords='offset pixels',\n",
        "            horizontalalignment='right',\n",
        "            verticalalignment='top',\n",
        "            )\n",
        "    ax2.imshow(\n",
        "        np.vstack(slice).T,\n",
        "        cmap='inferno',\n",
        "        aspect='auto',\n",
        "        vmax=vmax,\n",
        "        extent=[yarr[0], yarr[-1], 0, 1],\n",
        "        )\n",
        "    ax2.set_xlim([yarr[0], yarr[-1]])\n",
        "    ax2.tick_params('y', labelleft=False)\n",
        "    ax2.set_yticks([])\n",
        "    if xlabel:\n",
        "        ax2.set_xlabel('y (μm)')\n",
        "    else:\n",
        "        ax2.tick_params(axis='x', labelbottom=False)\n",
        "\n",
        "fig, ax = plt.subplots(\n",
        "    4, 3,\n",
        "    figsize=(9, 6),\n",
        "    gridspec_kw=dict(\n",
        "        width_ratios=(4, 4, 4),\n",
        "        height_ratios=(4, 1, 4, 1),\n",
        "        wspace=0.12,\n",
        "        hspace=0.1,\n",
        "        ),\n",
        "    sharex='col',\n",
        "    sharey='row',\n",
        "    )\n",
        "for k, slice in enumerate(slices):\n",
        "    i = 2 * int(k / 3)\n",
        "    j = k % 3\n",
        "    plot_intensity(\n",
        "        slice, yarr, ax[i][j], ax[i+1][j],\n",
        "        vmax=np.max(slices[:3]) if k < 3 else np.max(slices[3:]),\n",
        "        xval=slice_dists[k],\n",
        "        xlabel=(i==2),\n",
        "        ylabel=(j==0))"
      ],
      "metadata": {
        "id": "Mk1yCa-2XCuD"
      },
      "execution_count": null,
      "outputs": []
    }
  ]
}